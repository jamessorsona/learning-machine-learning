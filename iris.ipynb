{
 "cells": [
  {
   "cell_type": "markdown",
   "source": [
    "# Import Necessary Modules"
   ],
   "metadata": {}
  },
  {
   "cell_type": "code",
   "execution_count": 60,
   "source": [
    "from pandas import read_csv, DataFrame\r\n",
    "import numpy as np\r\n",
    "import matplotlib.pyplot as plt\r\n",
    "import seaborn as sns\r\n",
    "from sklearn import preprocessing\r\n",
    "from random import randint"
   ],
   "outputs": [],
   "metadata": {}
  },
  {
   "cell_type": "markdown",
   "source": [
    "# Loading the file"
   ],
   "metadata": {}
  },
  {
   "cell_type": "code",
   "execution_count": 9,
   "source": [
    "file = './Iris.csv'\r\n",
    "names = ['id', 'sepal-length', 'sepal-width', 'petal-length', 'petal-wdith', 'outcome']\r\n",
    "data_iris = read_csv(file,\r\n",
    "                    names = names,\r\n",
    "                    index_col = 'id',\r\n",
    "                    header = 0)"
   ],
   "outputs": [],
   "metadata": {}
  },
  {
   "cell_type": "markdown",
   "source": [
    "# Dataset Characteristics"
   ],
   "metadata": {}
  },
  {
   "cell_type": "code",
   "execution_count": null,
   "source": [
    "# Dataset Dimensions\r\n",
    "print(f'Dataset Size: {data_iris.shape}')\r\n",
    "\r\n",
    "# First 10 Entries\r\n",
    "print(f'First 10 Entries:\\n {data_iris.head(10)}')\r\n",
    "\r\n",
    "# Last 10 Entries\r\n",
    "print(f'Last 10 Entries:\\n {data_iris.tail(10)}')\r\n",
    "\r\n",
    "# Unique Attributes\r\n",
    "data_iris['outcome'].unique()\r\n",
    "\r\n",
    "# Class Distribution\r\n",
    "data_iris.groupby('outcome').size()"
   ],
   "outputs": [],
   "metadata": {}
  },
  {
   "cell_type": "markdown",
   "source": [
    "## Simple Statistics"
   ],
   "metadata": {}
  },
  {
   "cell_type": "code",
   "execution_count": 23,
   "source": [
    "# describe() method to generate the count, mean, SD, and percentiles\r\n",
    "data_iris.describe()\r\n",
    "\r\n",
    "# skewness\r\n",
    "data_iris.skew()"
   ],
   "outputs": [
    {
     "output_type": "execute_result",
     "data": {
      "text/plain": [
       "sepal-length    0.314911\n",
       "sepal-width     0.334053\n",
       "petal-length   -0.274464\n",
       "petal-wdith    -0.104997\n",
       "dtype: float64"
      ]
     },
     "metadata": {},
     "execution_count": 23
    }
   ],
   "metadata": {}
  },
  {
   "cell_type": "markdown",
   "source": [
    "## Data Distribution"
   ],
   "metadata": {}
  },
  {
   "cell_type": "code",
   "execution_count": null,
   "source": [
    "# make a deep copy\r\n",
    "features = data_iris.copy()\r\n",
    "# remove specified column\r\n",
    "features.drop(columns=['outcome'], inplace=True)\r\n",
    "# boxplot\r\n",
    "features.boxplot(vert=False)\r\n",
    "# histogram\r\n",
    "features.hist()\r\n",
    "# density plot\r\n",
    "features.plot(kind='density', subplots=True, layout=(2,2), sharex=False)"
   ],
   "outputs": [],
   "metadata": {}
  },
  {
   "cell_type": "markdown",
   "source": [
    "## Data Correlation"
   ],
   "metadata": {}
  },
  {
   "cell_type": "code",
   "execution_count": null,
   "source": [
    "data_corr = features.corr(method='pearson')\r\n",
    "print(data_corr)\r\n",
    "# plotting the correlation matrix\r\n",
    "heatmap = sns.heatmap(data_corr,\r\n",
    "                    mask=np.triu(np.ones_like(data_corr, dtype=np.bool)),\r\n",
    "                    vmin=-1, vmax=1,\r\n",
    "                    annot=True,\r\n",
    "                    cmap='BrBG')\r\n",
    "# scatter plot\r\n",
    "sns.pairplot(features, diag_kind='hist')\r\n",
    "# plot the distribution by outcome\r\n",
    "sns.pairplot(data_iris, hue='outcome')"
   ],
   "outputs": [],
   "metadata": {}
  },
  {
   "cell_type": "markdown",
   "source": [
    "# Data Preparation / Pre-processing\r\n",
    "After studying the charasteristics of the dataset, this step prepares it for modelling.\r\n",
    "* Changing Data Encoding\r\n",
    "* Data Transformation\r\n",
    "* Splitting Dataset into Training and Validation Data"
   ],
   "metadata": {}
  },
  {
   "cell_type": "markdown",
   "source": [
    "## Encoding"
   ],
   "metadata": {}
  },
  {
   "cell_type": "markdown",
   "source": [
    "### Label Encoding"
   ],
   "metadata": {}
  },
  {
   "cell_type": "code",
   "execution_count": 52,
   "source": [
    "# Changing Data Encoding\r\n",
    "## Uses the LabelEncoder() method from sklearn to translate categories of a feature into a numerical value\r\n",
    "encoder = preprocessing.LabelEncoder()          # Instantiate the Label Encoder\r\n",
    "encoder.fit(data_iris['outcome'].unique())      # Fit the encoder with the outcome variables\r\n",
    "\r\n",
    "# testing the encoder\r\n",
    "test_labels = data_iris['outcome'].unique()\r\n",
    "encoded_values = encoder.transform(test_labels)\r\n",
    "print('Labels:', test_labels)\r\n",
    "print('Encoded values:', list(encoded_values))\r\n",
    "\r\n",
    "# inversely, getting the outcome class by using encoded values\r\n",
    "test_encoded_values = [2,0,2,1]\r\n",
    "decoded_values = encoder.inverse_transform(test_encoded_values)\r\n",
    "print(\"Test encoded values:\", test_encoded_values)\r\n",
    "print('Decoded values:', decoded_values)"
   ],
   "outputs": [
    {
     "output_type": "stream",
     "name": "stdout",
     "text": [
      "Labels: ['Iris-setosa' 'Iris-versicolor' 'Iris-virginica']\n",
      "Encoded values: [0, 1, 2]\n",
      "Test encoded values: [2, 0, 2, 1]\n",
      "Decoded values: ['Iris-virginica' 'Iris-setosa' 'Iris-virginica' 'Iris-versicolor']\n"
     ]
    }
   ],
   "metadata": {}
  },
  {
   "cell_type": "code",
   "execution_count": 54,
   "source": [
    "# encoding the 'outcome' column in data_iris\r\n",
    "data_iris['outcome'] = encoder.transform(data_iris['outcome'])\r\n",
    "data_iris"
   ],
   "outputs": [
    {
     "output_type": "execute_result",
     "data": {
      "text/plain": [
       "     sepal-length  sepal-width  petal-length  petal-wdith  outcome\n",
       "id                                                                \n",
       "1             5.1          3.5           1.4          0.2        0\n",
       "2             4.9          3.0           1.4          0.2        0\n",
       "3             4.7          3.2           1.3          0.2        0\n",
       "4             4.6          3.1           1.5          0.2        0\n",
       "5             5.0          3.6           1.4          0.2        0\n",
       "..            ...          ...           ...          ...      ...\n",
       "146           6.7          3.0           5.2          2.3        2\n",
       "147           6.3          2.5           5.0          1.9        2\n",
       "148           6.5          3.0           5.2          2.0        2\n",
       "149           6.2          3.4           5.4          2.3        2\n",
       "150           5.9          3.0           5.1          1.8        2\n",
       "\n",
       "[150 rows x 5 columns]"
      ],
      "text/html": [
       "<div>\n",
       "<style scoped>\n",
       "    .dataframe tbody tr th:only-of-type {\n",
       "        vertical-align: middle;\n",
       "    }\n",
       "\n",
       "    .dataframe tbody tr th {\n",
       "        vertical-align: top;\n",
       "    }\n",
       "\n",
       "    .dataframe thead th {\n",
       "        text-align: right;\n",
       "    }\n",
       "</style>\n",
       "<table border=\"1\" class=\"dataframe\">\n",
       "  <thead>\n",
       "    <tr style=\"text-align: right;\">\n",
       "      <th></th>\n",
       "      <th>sepal-length</th>\n",
       "      <th>sepal-width</th>\n",
       "      <th>petal-length</th>\n",
       "      <th>petal-wdith</th>\n",
       "      <th>outcome</th>\n",
       "    </tr>\n",
       "    <tr>\n",
       "      <th>id</th>\n",
       "      <th></th>\n",
       "      <th></th>\n",
       "      <th></th>\n",
       "      <th></th>\n",
       "      <th></th>\n",
       "    </tr>\n",
       "  </thead>\n",
       "  <tbody>\n",
       "    <tr>\n",
       "      <th>1</th>\n",
       "      <td>5.1</td>\n",
       "      <td>3.5</td>\n",
       "      <td>1.4</td>\n",
       "      <td>0.2</td>\n",
       "      <td>0</td>\n",
       "    </tr>\n",
       "    <tr>\n",
       "      <th>2</th>\n",
       "      <td>4.9</td>\n",
       "      <td>3.0</td>\n",
       "      <td>1.4</td>\n",
       "      <td>0.2</td>\n",
       "      <td>0</td>\n",
       "    </tr>\n",
       "    <tr>\n",
       "      <th>3</th>\n",
       "      <td>4.7</td>\n",
       "      <td>3.2</td>\n",
       "      <td>1.3</td>\n",
       "      <td>0.2</td>\n",
       "      <td>0</td>\n",
       "    </tr>\n",
       "    <tr>\n",
       "      <th>4</th>\n",
       "      <td>4.6</td>\n",
       "      <td>3.1</td>\n",
       "      <td>1.5</td>\n",
       "      <td>0.2</td>\n",
       "      <td>0</td>\n",
       "    </tr>\n",
       "    <tr>\n",
       "      <th>5</th>\n",
       "      <td>5.0</td>\n",
       "      <td>3.6</td>\n",
       "      <td>1.4</td>\n",
       "      <td>0.2</td>\n",
       "      <td>0</td>\n",
       "    </tr>\n",
       "    <tr>\n",
       "      <th>...</th>\n",
       "      <td>...</td>\n",
       "      <td>...</td>\n",
       "      <td>...</td>\n",
       "      <td>...</td>\n",
       "      <td>...</td>\n",
       "    </tr>\n",
       "    <tr>\n",
       "      <th>146</th>\n",
       "      <td>6.7</td>\n",
       "      <td>3.0</td>\n",
       "      <td>5.2</td>\n",
       "      <td>2.3</td>\n",
       "      <td>2</td>\n",
       "    </tr>\n",
       "    <tr>\n",
       "      <th>147</th>\n",
       "      <td>6.3</td>\n",
       "      <td>2.5</td>\n",
       "      <td>5.0</td>\n",
       "      <td>1.9</td>\n",
       "      <td>2</td>\n",
       "    </tr>\n",
       "    <tr>\n",
       "      <th>148</th>\n",
       "      <td>6.5</td>\n",
       "      <td>3.0</td>\n",
       "      <td>5.2</td>\n",
       "      <td>2.0</td>\n",
       "      <td>2</td>\n",
       "    </tr>\n",
       "    <tr>\n",
       "      <th>149</th>\n",
       "      <td>6.2</td>\n",
       "      <td>3.4</td>\n",
       "      <td>5.4</td>\n",
       "      <td>2.3</td>\n",
       "      <td>2</td>\n",
       "    </tr>\n",
       "    <tr>\n",
       "      <th>150</th>\n",
       "      <td>5.9</td>\n",
       "      <td>3.0</td>\n",
       "      <td>5.1</td>\n",
       "      <td>1.8</td>\n",
       "      <td>2</td>\n",
       "    </tr>\n",
       "  </tbody>\n",
       "</table>\n",
       "<p>150 rows × 5 columns</p>\n",
       "</div>"
      ]
     },
     "metadata": {},
     "execution_count": 54
    }
   ],
   "metadata": {}
  },
  {
   "cell_type": "markdown",
   "source": [
    "### One Hot Encoder\r\n",
    "This type of encoder is used when there are multi-categorical features that have nominal categories. One-Hot Encoding transforms a feature with n categories into n columns populated by ones and zeros."
   ],
   "metadata": {}
  },
  {
   "cell_type": "code",
   "execution_count": 72,
   "source": [
    "colors = ['Red', 'Blue', 'Green', 'Yellow', 'Orange']\r\n",
    "data_color = DataFrame([colors[randint(0,4)] for x in range(50)], columns=['color'])\r\n",
    "data_color.head(10)"
   ],
   "outputs": [
    {
     "output_type": "execute_result",
     "data": {
      "text/plain": [
       "    color\n",
       "0  Orange\n",
       "1  Orange\n",
       "2    Blue\n",
       "3  Orange\n",
       "4  Yellow\n",
       "5    Blue\n",
       "6  Orange\n",
       "7   Green\n",
       "8     Red\n",
       "9    Blue"
      ],
      "text/html": [
       "<div>\n",
       "<style scoped>\n",
       "    .dataframe tbody tr th:only-of-type {\n",
       "        vertical-align: middle;\n",
       "    }\n",
       "\n",
       "    .dataframe tbody tr th {\n",
       "        vertical-align: top;\n",
       "    }\n",
       "\n",
       "    .dataframe thead th {\n",
       "        text-align: right;\n",
       "    }\n",
       "</style>\n",
       "<table border=\"1\" class=\"dataframe\">\n",
       "  <thead>\n",
       "    <tr style=\"text-align: right;\">\n",
       "      <th></th>\n",
       "      <th>color</th>\n",
       "    </tr>\n",
       "  </thead>\n",
       "  <tbody>\n",
       "    <tr>\n",
       "      <th>0</th>\n",
       "      <td>Orange</td>\n",
       "    </tr>\n",
       "    <tr>\n",
       "      <th>1</th>\n",
       "      <td>Orange</td>\n",
       "    </tr>\n",
       "    <tr>\n",
       "      <th>2</th>\n",
       "      <td>Blue</td>\n",
       "    </tr>\n",
       "    <tr>\n",
       "      <th>3</th>\n",
       "      <td>Orange</td>\n",
       "    </tr>\n",
       "    <tr>\n",
       "      <th>4</th>\n",
       "      <td>Yellow</td>\n",
       "    </tr>\n",
       "    <tr>\n",
       "      <th>5</th>\n",
       "      <td>Blue</td>\n",
       "    </tr>\n",
       "    <tr>\n",
       "      <th>6</th>\n",
       "      <td>Orange</td>\n",
       "    </tr>\n",
       "    <tr>\n",
       "      <th>7</th>\n",
       "      <td>Green</td>\n",
       "    </tr>\n",
       "    <tr>\n",
       "      <th>8</th>\n",
       "      <td>Red</td>\n",
       "    </tr>\n",
       "    <tr>\n",
       "      <th>9</th>\n",
       "      <td>Blue</td>\n",
       "    </tr>\n",
       "  </tbody>\n",
       "</table>\n",
       "</div>"
      ]
     },
     "metadata": {},
     "execution_count": 72
    }
   ],
   "metadata": {}
  },
  {
   "cell_type": "code",
   "execution_count": 73,
   "source": [
    "onehot_encoder = preprocessing.OneHotEncoder()\r\n",
    "encoded_color = DataFrame(onehot_encoder.fit_transform(data_color).toarray(),\r\n",
    "                            columns=onehot_encoder.get_feature_names())             # access encoder column name order\r\n",
    "print(encoded_color)"
   ],
   "outputs": [
    {
     "output_type": "stream",
     "name": "stdout",
     "text": [
      "    x0_Blue  x0_Green  x0_Orange  x0_Red  x0_Yellow\n",
      "0       0.0       0.0        1.0     0.0        0.0\n",
      "1       0.0       0.0        1.0     0.0        0.0\n",
      "2       1.0       0.0        0.0     0.0        0.0\n",
      "3       0.0       0.0        1.0     0.0        0.0\n",
      "4       0.0       0.0        0.0     0.0        1.0\n",
      "5       1.0       0.0        0.0     0.0        0.0\n",
      "6       0.0       0.0        1.0     0.0        0.0\n",
      "7       0.0       1.0        0.0     0.0        0.0\n",
      "8       0.0       0.0        0.0     1.0        0.0\n",
      "9       1.0       0.0        0.0     0.0        0.0\n",
      "10      0.0       0.0        1.0     0.0        0.0\n",
      "11      1.0       0.0        0.0     0.0        0.0\n",
      "12      0.0       0.0        0.0     1.0        0.0\n",
      "13      0.0       1.0        0.0     0.0        0.0\n",
      "14      0.0       0.0        0.0     0.0        1.0\n",
      "15      0.0       0.0        0.0     1.0        0.0\n",
      "16      1.0       0.0        0.0     0.0        0.0\n",
      "17      0.0       0.0        0.0     0.0        1.0\n",
      "18      1.0       0.0        0.0     0.0        0.0\n",
      "19      0.0       0.0        0.0     1.0        0.0\n",
      "20      1.0       0.0        0.0     0.0        0.0\n",
      "21      1.0       0.0        0.0     0.0        0.0\n",
      "22      1.0       0.0        0.0     0.0        0.0\n",
      "23      1.0       0.0        0.0     0.0        0.0\n",
      "24      0.0       1.0        0.0     0.0        0.0\n",
      "25      0.0       0.0        0.0     0.0        1.0\n",
      "26      0.0       0.0        1.0     0.0        0.0\n",
      "27      0.0       0.0        0.0     1.0        0.0\n",
      "28      1.0       0.0        0.0     0.0        0.0\n",
      "29      0.0       0.0        1.0     0.0        0.0\n",
      "30      0.0       0.0        0.0     0.0        1.0\n",
      "31      0.0       0.0        1.0     0.0        0.0\n",
      "32      1.0       0.0        0.0     0.0        0.0\n",
      "33      0.0       0.0        0.0     0.0        1.0\n",
      "34      0.0       1.0        0.0     0.0        0.0\n",
      "35      0.0       0.0        0.0     1.0        0.0\n",
      "36      0.0       0.0        0.0     0.0        1.0\n",
      "37      0.0       1.0        0.0     0.0        0.0\n",
      "38      1.0       0.0        0.0     0.0        0.0\n",
      "39      0.0       1.0        0.0     0.0        0.0\n",
      "40      0.0       0.0        0.0     0.0        1.0\n",
      "41      0.0       1.0        0.0     0.0        0.0\n",
      "42      0.0       1.0        0.0     0.0        0.0\n",
      "43      1.0       0.0        0.0     0.0        0.0\n",
      "44      1.0       0.0        0.0     0.0        0.0\n",
      "45      0.0       1.0        0.0     0.0        0.0\n",
      "46      0.0       0.0        0.0     0.0        1.0\n",
      "47      0.0       0.0        0.0     1.0        0.0\n",
      "48      0.0       0.0        0.0     0.0        1.0\n",
      "49      0.0       0.0        0.0     0.0        1.0\n"
     ]
    }
   ],
   "metadata": {}
  },
  {
   "cell_type": "markdown",
   "source": [
    "## Data Transformation"
   ],
   "metadata": {}
  },
  {
   "cell_type": "markdown",
   "source": [
    "### Scaling\r\n",
    "This example uses MinMaxScaler() from Scikit-learn"
   ],
   "metadata": {}
  },
  {
   "cell_type": "code",
   "execution_count": 87,
   "source": [
    "# Create a 2D list of random integers\r\n",
    "arr = [ [randint(0,100), randint(0,100), randint(0,100), randint(0,100)] for i in range(5)]\r\n",
    "\r\n",
    "data_scaler = preprocessing.MinMaxScaler(feature_range=(0,1))       #instantiate scaler\r\n",
    "data_rescaled = data_scaler.fit_transform(arr)\r\n",
    "\r\n",
    "print('Original Data:\\n', arr)\r\n",
    "print('Rescaled Data:\\n', data_rescaled)"
   ],
   "outputs": [
    {
     "output_type": "stream",
     "name": "stdout",
     "text": [
      "Original Data:\n",
      " [[16, 61, 12, 79], [45, 45, 38, 63], [9, 76, 41, 11], [85, 86, 10, 69], [5, 10, 24, 37]]\n",
      "Rescaled Data:\n",
      " [[0.1375     0.67105263 0.06451613 1.        ]\n",
      " [0.5        0.46052632 0.90322581 0.76470588]\n",
      " [0.05       0.86842105 1.         0.        ]\n",
      " [1.         1.         0.         0.85294118]\n",
      " [0.         0.         0.4516129  0.38235294]]\n"
     ]
    }
   ],
   "metadata": {}
  },
  {
   "cell_type": "markdown",
   "source": [
    "### Standardization\r\n",
    "The distribution of each feature is another characteristic that affects the efefctivity of machine learning models. Some machine learning models like Linear Regression and Logistic Regression require that the features follows a standard Gaussian distribution. (mean=0 && std_dev=1)\r\n",
    "This example uses StandardScaler() from Scikit-learn."
   ],
   "metadata": {}
  },
  {
   "cell_type": "code",
   "execution_count": 91,
   "source": [
    "data_scaler1 = preprocessing.StandardScaler().fit(features)\r\n",
    "data_rescaled1 = DataFrame(data_scaler1.transform(features))\r\n",
    "data_rescaled1.plot(kind='density', subplots=True, layout=(2,2), sharex=False)"
   ],
   "outputs": [
    {
     "output_type": "stream",
     "name": "stderr",
     "text": [
      "C:\\Users\\james\\AppData\\Local\\Programs\\Python\\Python39\\lib\\site-packages\\pandas\\plotting\\_matplotlib\\tools.py:400: MatplotlibDeprecationWarning: \n",
      "The is_first_col function was deprecated in Matplotlib 3.4 and will be removed two minor releases later. Use ax.get_subplotspec().is_first_col() instead.\n",
      "  if ax.is_first_col():\n",
      "C:\\Users\\james\\AppData\\Local\\Programs\\Python\\Python39\\lib\\site-packages\\pandas\\plotting\\_matplotlib\\tools.py:400: MatplotlibDeprecationWarning: \n",
      "The is_first_col function was deprecated in Matplotlib 3.4 and will be removed two minor releases later. Use ax.get_subplotspec().is_first_col() instead.\n",
      "  if ax.is_first_col():\n"
     ]
    },
    {
     "output_type": "execute_result",
     "data": {
      "text/plain": [
       "array([[<AxesSubplot:ylabel='Density'>, <AxesSubplot:ylabel='Density'>],\n",
       "       [<AxesSubplot:ylabel='Density'>, <AxesSubplot:ylabel='Density'>]],\n",
       "      dtype=object)"
      ]
     },
     "metadata": {},
     "execution_count": 91
    },
    {
     "output_type": "display_data",
     "data": {
      "text/plain": [
       "<Figure size 432x288 with 4 Axes>"
      ],
      "image/png": "[encoded data removed]"
     },
     "metadata": {
      "needs_background": "light"
     }
    }
   ],
   "metadata": {}
  },
  {
   "cell_type": "markdown",
   "source": [
    "### Feature Selection"
   ],
   "metadata": {}
  },
  {
   "cell_type": "markdown",
   "source": [
    "#### Univariate Selection\r\n",
    "This method selects features that have the strongest relationship with the outcome.This example uses the SelectKBest() function from Scikit-learn."
   ],
   "metadata": {}
  },
  {
   "cell_type": "code",
   "execution_count": 94,
   "source": [
    "from sklearn.feature_selection import SelectKBest, chi2\r\n",
    "\r\n",
    "selector = SelectKBest(score_func=chi2, k=2)            # select 2 features using chi2\r\n",
    "fit = selector.fit(features, data_iris['outcome'])      # fit data into selector\r\n",
    "print(fit.scores_)                                      # higher scores are better\r\n",
    "\r\n",
    "print(features.columns)\r\n",
    "print(fit.get_support(indices=False))                   # shows the mask for the features (true means feature was selected)\r\n",
    "\r\n",
    "featured_data = fit.transform(features)                 # removes unnecessary columns"
   ],
   "outputs": [
    {
     "output_type": "stream",
     "name": "stdout",
     "text": [
      "[ 10.81782088   3.59449902 116.16984746  67.24482759]\n",
      "Index(['sepal-length', 'sepal-width', 'petal-length', 'petal-wdith'], dtype='object')\n",
      "[False False  True  True]\n"
     ]
    }
   ],
   "metadata": {}
  },
  {
   "cell_type": "markdown",
   "source": [
    "### Principal Component Analysis (PCA)\r\n",
    "This uses linear algebra to transform a given dataset into a more compressed form (reduced number of features).\r\n",
    "\r\n",
    "This example uses PCA() method from Scikit-learn."
   ],
   "metadata": {}
  },
  {
   "cell_type": "code",
   "execution_count": 95,
   "source": [
    "from sklearn.decomposition import PCA\r\n",
    "\r\n",
    "pca = PCA(n_components=3)\r\n",
    "fit = pca.fit(features)\r\n",
    "print('Explained Variance:', fit.explained_variance_ratio_)\r\n",
    "print(fit.components_)"
   ],
   "outputs": [
    {
     "output_type": "stream",
     "name": "stdout",
     "text": [
      "Explained Variance: [0.92461621 0.05301557 0.01718514]\n",
      "[[ 0.36158968 -0.08226889  0.85657211  0.35884393]\n",
      " [ 0.65653988  0.72971237 -0.1757674  -0.07470647]\n",
      " [-0.58099728  0.59641809  0.07252408  0.54906091]]\n"
     ]
    }
   ],
   "metadata": {}
  },
  {
   "cell_type": "code",
   "execution_count": 96,
   "source": [
    "from mpl_toolkits.mplot3d import Axes3D\r\n",
    "\r\n",
    "X_reduced = pca.transform(features)\r\n",
    "\r\n",
    "elevation = -130  #@param {type: \"slider\", min: -360, max: 360}\r\n",
    "azimuthal = 111  #@param {type: \"slider\", min: -360, max: 360}\r\n",
    "\r\n",
    "fig = plt.figure(1, figsize=(8, 6))\r\n",
    "ax = Axes3D(fig, elev=elevation, azim=azimuthal)\r\n",
    "ax.scatter(X_reduced[:, 0], X_reduced[:, 1], X_reduced[:, 2], c=data_iris['outcome'], cmap=plt.cm.Set1, edgecolor='k', s=40)\r\n",
    "ax.set_xlabel(\"1st eigenvector\")\r\n",
    "ax.set_ylabel(\"2nd eigenvector\")\r\n",
    "ax.set_zlabel(\"3rd eigenvector\")\r\n",
    "plt.show()"
   ],
   "outputs": [
    {
     "output_type": "stream",
     "name": "stderr",
     "text": [
      "<ipython-input-96-a925fd2f383f>:9: MatplotlibDeprecationWarning: Axes3D(fig) adding itself to the figure is deprecated since 3.4. Pass the keyword argument auto_add_to_figure=False and use fig.add_axes(ax) to suppress this warning. The default value of auto_add_to_figure will change to False in mpl3.5 and True values will no longer work in 3.6.  This is consistent with other Axes classes.\n",
      "  ax = Axes3D(fig, elev=elevation, azim=azimuthal)\n"
     ]
    },
    {
     "output_type": "display_data",
     "data": {
      "text/plain": [
       "<Figure size 576x432 with 1 Axes>"
      ],
      "image/png": "[encoded data removed]"
     },
     "metadata": {
      "needs_background": "light"
     }
    }
   ],
   "metadata": {}
  },
  {
   "cell_type": "markdown",
   "source": [
    "## Splitting Data into (1)Training and (2)Validation Data"
   ],
   "metadata": {}
  },
  {
   "cell_type": "code",
   "execution_count": 99,
   "source": [
    "from sklearn.model_selection import train_test_split\r\n",
    "\r\n",
    "valid_data = 0.20   #percentage of valid data\r\n",
    "\r\n",
    "X_train, X_valid, Y_train, Y_valid = train_test_split(features,\r\n",
    "                                                        data_iris['outcome'],\r\n",
    "                                                        test_size=valid_data,\r\n",
    "                                                        random_state=1)\r\n",
    "\r\n",
    "print(X_train.describe())\r\n",
    "print(X_valid.describe())                                                        "
   ],
   "outputs": [
    {
     "output_type": "stream",
     "name": "stdout",
     "text": [
      "       sepal-length  sepal-width  petal-length  petal-wdith\n",
      "count    120.000000   120.000000    120.000000   120.000000\n",
      "mean       5.838333     3.015000      3.810833     1.218333\n",
      "std        0.832752     0.417002      1.770951     0.777843\n",
      "min        4.300000     2.000000      1.000000     0.100000\n",
      "25%        5.100000     2.800000      1.600000     0.300000\n",
      "50%        5.800000     3.000000      4.350000     1.300000\n",
      "75%        6.400000     3.300000      5.125000     1.800000\n",
      "max        7.700000     4.400000      6.900000     2.500000\n",
      "       sepal-length  sepal-width  petal-length  petal-wdith\n",
      "count     30.000000    30.000000     30.000000    30.000000\n",
      "mean       5.863333     3.210000      3.550000     1.120000\n",
      "std        0.822730     0.470033      1.751994     0.708276\n",
      "min        4.400000     2.500000      1.200000     0.200000\n",
      "25%        5.400000     2.925000      1.525000     0.400000\n",
      "50%        5.650000     3.200000      4.300000     1.250000\n",
      "75%        6.375000     3.475000      4.700000     1.575000\n",
      "max        7.900000     4.200000      6.400000     2.300000\n"
     ]
    }
   ],
   "metadata": {}
  },
  {
   "cell_type": "markdown",
   "source": [
    "# Data Modeling"
   ],
   "metadata": {}
  },
  {
   "cell_type": "markdown",
   "source": [
    "### Training Models and Making Predictions\r\n",
    "This particular example uses support vector machines through SVC() from sklearn"
   ],
   "metadata": {}
  },
  {
   "cell_type": "code",
   "execution_count": 100,
   "source": [
    "from sklearn.svm import SVC\r\n",
    "\r\n",
    "# make the model using the training set\r\n",
    "model_SVC = SVC(gamma='auto')\r\n",
    "model_SVC.fit(X_train, Y_train)"
   ],
   "outputs": [
    {
     "output_type": "execute_result",
     "data": {
      "text/plain": [
       "SVC(gamma='auto')"
      ]
     },
     "metadata": {},
     "execution_count": 100
    }
   ],
   "metadata": {}
  },
  {
   "cell_type": "code",
   "execution_count": 103,
   "source": [
    "# make prediction using the validation set\r\n",
    "Y_pred = model_SVC.predict(X_valid)\r\n",
    "print(Y_pred)\r\n",
    "\r\n",
    "# decoding this data\r\n",
    "Y_pred_decoded = encoder.inverse_transform(Y_pred)\r\n",
    "print(Y_pred_decoded)"
   ],
   "outputs": [
    {
     "output_type": "stream",
     "name": "stdout",
     "text": [
      "[0 1 1 0 2 1 2 0 0 2 1 0 2 1 1 0 1 1 0 0 1 1 2 0 2 1 0 0 1 2]\n",
      "['Iris-setosa' 'Iris-versicolor' 'Iris-versicolor' 'Iris-setosa'\n",
      " 'Iris-virginica' 'Iris-versicolor' 'Iris-virginica' 'Iris-setosa'\n",
      " 'Iris-setosa' 'Iris-virginica' 'Iris-versicolor' 'Iris-setosa'\n",
      " 'Iris-virginica' 'Iris-versicolor' 'Iris-versicolor' 'Iris-setosa'\n",
      " 'Iris-versicolor' 'Iris-versicolor' 'Iris-setosa' 'Iris-setosa'\n",
      " 'Iris-versicolor' 'Iris-versicolor' 'Iris-virginica' 'Iris-setosa'\n",
      " 'Iris-virginica' 'Iris-versicolor' 'Iris-setosa' 'Iris-setosa'\n",
      " 'Iris-versicolor' 'Iris-virginica']\n"
     ]
    }
   ],
   "metadata": {}
  },
  {
   "cell_type": "markdown",
   "source": [
    "# Saving the Model"
   ],
   "metadata": {}
  },
  {
   "cell_type": "code",
   "execution_count": 105,
   "source": [
    "import pickle\r\n",
    "\r\n",
    "filename = 'model_SVC.sav'\r\n",
    "pickle.dump(model_SVC, open(filename, 'wb'))\r\n",
    "\r\n",
    "loaded_model_SVC = pickle.load(open(filename, 'rb'))    # load the pickled model\r\n",
    "Y_pred_pickle = loaded_model_SVC.predict(X_valid)\r\n",
    "print(Y_pred_pickle)\r\n",
    "print(Y_pred)"
   ],
   "outputs": [
    {
     "output_type": "stream",
     "name": "stdout",
     "text": [
      "[0 1 1 0 2 1 2 0 0 2 1 0 2 1 1 0 1 1 0 0 1 1 2 0 2 1 0 0 1 2]\n",
      "[0 1 1 0 2 1 2 0 0 2 1 0 2 1 1 0 1 1 0 0 1 1 2 0 2 1 0 0 1 2]\n"
     ]
    }
   ],
   "metadata": {}
  },
  {
   "cell_type": "markdown",
   "source": [
    "# Cross Validation\r\n",
    "To determine the validity of the model"
   ],
   "metadata": {}
  },
  {
   "cell_type": "code",
   "execution_count": 106,
   "source": [
    "from sklearn.model_selection import cross_val_score\r\n",
    "from sklearn.model_selection import StratifiedKFold\r\n",
    "\r\n",
    "folds = 10  #@param {type: \"slider\", min: 1, max: 10}\r\n",
    "kfold = StratifiedKFold(n_splits=folds,                        # set the number of folds to 10\r\n",
    "                        random_state=1, \r\n",
    "                        shuffle=True)  \r\n",
    "cv_results = cross_val_score(model_SVC, X_train, Y_train, \r\n",
    "                             cv=kfold,                      # \r\n",
    "                             scoring='accuracy')            # set accuracy as metric\r\n",
    "print('Fold Accuracies:', cv_results)\r\n",
    "print('Mean Accuracy:',cv_results.mean())\r\n",
    "print('Standard Deviation:', cv_results.std())"
   ],
   "outputs": [
    {
     "output_type": "stream",
     "name": "stdout",
     "text": [
      "Fold Accuracies: [1.         1.         1.         1.         0.91666667 1.\n",
      " 1.         1.         0.91666667 1.        ]\n",
      "Mean Accuracy: 0.9833333333333332\n",
      "Standard Deviation: 0.03333333333333335\n"
     ]
    }
   ],
   "metadata": {}
  },
  {
   "cell_type": "markdown",
   "source": [
    "# Performance Metrics\r\n",
    "Use validation data to see how the model performs on newly seen data. Previous predictions can be compared to the expected results of the validation data."
   ],
   "metadata": {}
  },
  {
   "cell_type": "code",
   "execution_count": 107,
   "source": [
    "# Accuracy Score\r\n",
    "\r\n",
    "from sklearn.metrics import accuracy_score\r\n",
    "print(accuracy_score(Y_valid, Y_pred))"
   ],
   "outputs": [
    {
     "output_type": "stream",
     "name": "stdout",
     "text": [
      "0.9666666666666667\n"
     ]
    }
   ],
   "metadata": {}
  },
  {
   "cell_type": "code",
   "execution_count": 109,
   "source": [
    "# Balanced Accuracy Score for multi-class dataset\r\n",
    "\r\n",
    "from sklearn.metrics import balanced_accuracy_score\r\n",
    "print(balanced_accuracy_score(Y_valid, Y_pred))"
   ],
   "outputs": [
    {
     "output_type": "stream",
     "name": "stdout",
     "text": [
      "0.9743589743589745\n"
     ]
    }
   ],
   "metadata": {}
  },
  {
   "cell_type": "code",
   "execution_count": 112,
   "source": [
    "# Confusion Matrix\r\n",
    "from sklearn.metrics import confusion_matrix\r\n",
    "\r\n",
    "cf_result = confusion_matrix(Y_valid, Y_pred)\r\n",
    "print(cf_result)\r\n",
    "\r\n",
    "sns.heatmap(cf_result, annot=True, cmap='Blues', cbar='False')\r\n",
    "plt.show()\r\n",
    "\r\n",
    "sns.heatmap(cf_result/np.sum(cf_result), # compute for percentage\r\n",
    "            annot=True, \r\n",
    "            fmt='.2%', \r\n",
    "            cmap='Blues', cbar='False')\r\n",
    "plt.show()"
   ],
   "outputs": [
    {
     "output_type": "stream",
     "name": "stdout",
     "text": [
      "[[11  0  0]\n",
      " [ 0 12  1]\n",
      " [ 0  0  6]]\n"
     ]
    },
    {
     "output_type": "display_data",
     "data": {
      "text/plain": [
       "<Figure size 432x288 with 2 Axes>"
      ],
      "image/png": "[encoded data removed]"
     },
     "metadata": {
      "needs_background": "light"
     }
    },
    {
     "output_type": "display_data",
     "data": {
      "text/plain": [
       "<Figure size 432x288 with 2 Axes>"
      ],
      "image/png": "[encoded data removed]"
     },
     "metadata": {
      "needs_background": "light"
     }
    }
   ],
   "metadata": {}
  },
  {
   "cell_type": "code",
   "execution_count": 113,
   "source": [
    "# Classification Report\r\n",
    "\r\n",
    "from sklearn.metrics import classification_report\r\n",
    "print(classification_report(Y_valid, Y_pred))"
   ],
   "outputs": [
    {
     "output_type": "stream",
     "name": "stdout",
     "text": [
      "              precision    recall  f1-score   support\n",
      "\n",
      "           0       1.00      1.00      1.00        11\n",
      "           1       1.00      0.92      0.96        13\n",
      "           2       0.86      1.00      0.92         6\n",
      "\n",
      "    accuracy                           0.97        30\n",
      "   macro avg       0.95      0.97      0.96        30\n",
      "weighted avg       0.97      0.97      0.97        30\n",
      "\n"
     ]
    }
   ],
   "metadata": {}
  }
 ],
 "metadata": {
  "orig_nbformat": 4,
  "language_info": {
   "name": "python",
   "version": "3.9.6",
   "mimetype": "text/x-python",
   "codemirror_mode": {
    "name": "ipython",
    "version": 3
   },
   "pygments_lexer": "ipython3",
   "nbconvert_exporter": "python",
   "file_extension": ".py"
  },
  "kernelspec": {
   "name": "python3",
   "display_name": "Python 3.9.6 64-bit"
  },
  "interpreter": {
   "hash": "22d9742e846c5b2e6352a52abbfdb0eaab0b509899a61abbfb2417673253b584"
  }
 },
 "nbformat": 4,
 "nbformat_minor": 2
}